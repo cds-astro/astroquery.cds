{
 "cells": [
  {
   "cell_type": "markdown",
   "metadata": {},
   "source": [
    "## Mixing a spatial constraint and a properties constraint\n",
    "\n",
    "We now want to bind a spatial and a properties constraints to the Constraints object so that our mocserver query returns all the datasets matching those two constraints."
   ]
  },
  {
   "cell_type": "code",
   "execution_count": 11,
   "metadata": {},
   "outputs": [],
   "source": [
    "from astropy import coordinates\n",
    "from regions import CircleSkyRegion\n",
    "\n",
    "# mocserver object derived from astroquery.query.BaseQuery\n",
    "from cds.core import cds\n",
    "\n",
    "from cds.constraints import Constraints\n",
    "from cds.spatial_constraints import Moc\n",
    "from cds.property_constraint import *\n",
    "from cds.output_format import OutputFormat"
   ]
  },
  {
   "cell_type": "markdown",
   "metadata": {},
   "source": [
    "As for the spatial constraint, let is define a moc from an url"
   ]
  },
  {
   "cell_type": "code",
   "execution_count": 12,
   "metadata": {},
   "outputs": [],
   "source": [
    "moc = Moc.from_url(url='http://alasky.u-strasbg.fr/SDSS/DR9/color/Moc.fits', intersect='overlaps')"
   ]
  },
  {
   "cell_type": "markdown",
   "metadata": {},
   "source": [
    "Let is define a properties constraint. Here we want to retrieve all datasets satisfying the following expression :\n",
    "(ID = \\*CDS\\* && moc_sky_fraction <= 0.01)\n",
    "\n",
    "In other words, we want to retrieve all datasets coming from the CDS and having a moc_sky_fraction of at least 1%.\n",
    "\n",
    "A properties constraint is written like an algebraic tree of equalities/inequalities. For instance, the above algebraic expression will be defined such as :"
   ]
  },
  {
   "cell_type": "code",
   "execution_count": 13,
   "metadata": {},
   "outputs": [],
   "source": [
    "properties_constraint = PropertyConstraint(ParentNode(\n",
    "    OperandExpr.Inter,\n",
    "    ChildNode(\"moc_sky_fraction <= 0.01\"),\n",
    "    ChildNode(\"ID = *CDS*\")\n",
    "))"
   ]
  },
  {
   "cell_type": "markdown",
   "metadata": {},
   "source": [
    "Once we defined our two constraints (i.e. a spatial one and a properties one), we can bind them to a Constraints object"
   ]
  },
  {
   "cell_type": "code",
   "execution_count": 14,
   "metadata": {},
   "outputs": [],
   "source": [
    "cds_constraints = Constraints(sc=moc, pc=properties_constraint)"
   ]
  },
  {
   "cell_type": "markdown",
   "metadata": {},
   "source": [
    "And simply call the mocserver object to run the query"
   ]
  },
  {
   "cell_type": "code",
   "execution_count": 15,
   "metadata": {
    "scrolled": true
   },
   "outputs": [
    {
     "name": "stdout",
     "output_type": "stream",
     "text": [
      "Final Request payload before requesting to alasky\n",
      "{'casesensitive': 'true',\n",
      " 'expr': 'moc_sky_fraction <= 0.01 && ID = *CDS*',\n",
      " 'fmt': 'json',\n",
      " 'get': 'number',\n",
      " 'intersect': 'overlaps',\n",
      " 'url': 'http://alasky.u-strasbg.fr/SDSS/DR9/color/Moc.fits'}\n"
     ]
    },
    {
     "data": {
      "text/plain": [
       "{'number': 13622}"
      ]
     },
     "execution_count": 15,
     "metadata": {},
     "output_type": "execute_result"
    }
   ],
   "source": [
    "response = cds.query_region(cds_constraints,\n",
    "                                  OutputFormat(format=OutputFormat.Type.number))\n",
    "response"
   ]
  },
  {
   "cell_type": "markdown",
   "metadata": {},
   "source": [
    "We have obtained from the mocserver the datasets which intersect the moc found at the url http://alasky.u-strasbg.fr/SDSS/DR9/color/Moc.fits, have the 'CDS' word in their IDs and finally, have a moc_sky_fraction with at least 1%."
   ]
  }
 ],
 "metadata": {
  "kernelspec": {
   "display_name": "Python 3",
   "language": "python",
   "name": "python3"
  },
  "language_info": {
   "codemirror_mode": {
    "name": "ipython",
    "version": 3
   },
   "file_extension": ".py",
   "mimetype": "text/x-python",
   "name": "python",
   "nbconvert_exporter": "python",
   "pygments_lexer": "ipython3",
   "version": "3.5.2"
  }
 },
 "nbformat": 4,
 "nbformat_minor": 2
}
